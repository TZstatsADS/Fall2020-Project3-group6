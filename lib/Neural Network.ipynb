{
 "cells": [
  {
   "cell_type": "code",
   "execution_count": 1,
   "metadata": {
    "ExecuteTime": {
     "end_time": "2020-11-01T19:28:39.260633Z",
     "start_time": "2020-11-01T19:28:34.279134Z"
    }
   },
   "outputs": [],
   "source": [
    "import numpy as np\n",
    "import pandas as pd\n",
    "import tensorflow as tf\n",
    "import tensorflow.keras as keras\n",
    "import matplotlib.pyplot as plt\n",
    "\n",
    "%matplotlib inline\n",
    "\n",
    "import sys"
   ]
  },
  {
   "cell_type": "code",
   "execution_count": 2,
   "metadata": {
    "ExecuteTime": {
     "end_time": "2020-11-01T19:28:43.216268Z",
     "start_time": "2020-11-01T19:28:39.263636Z"
    }
   },
   "outputs": [
    {
     "name": "stdout",
     "output_type": "stream",
     "text": [
      "Requirement already satisfied: imblearn in /Users/mengyao/opt/anaconda3/lib/python3.7/site-packages (0.0)\n",
      "Requirement already satisfied: imbalanced-learn in /Users/mengyao/opt/anaconda3/lib/python3.7/site-packages (from imblearn) (0.7.0)\n",
      "Requirement already satisfied: scipy>=0.19.1 in /Users/mengyao/opt/anaconda3/lib/python3.7/site-packages (from imbalanced-learn->imblearn) (1.4.1)\n",
      "Requirement already satisfied: numpy>=1.13.3 in /Users/mengyao/opt/anaconda3/lib/python3.7/site-packages (from imbalanced-learn->imblearn) (1.17.2)\n",
      "Requirement already satisfied: joblib>=0.11 in /Users/mengyao/opt/anaconda3/lib/python3.7/site-packages (from imbalanced-learn->imblearn) (0.13.2)\n",
      "Requirement already satisfied: scikit-learn>=0.23 in /Users/mengyao/opt/anaconda3/lib/python3.7/site-packages (from imbalanced-learn->imblearn) (0.23.2)\n",
      "Requirement already satisfied: threadpoolctl>=2.0.0 in /Users/mengyao/opt/anaconda3/lib/python3.7/site-packages (from scikit-learn>=0.23->imbalanced-learn->imblearn) (2.1.0)\n"
     ]
    }
   ],
   "source": [
    "!pip install imblearn\n",
    "from imblearn.over_sampling import SMOTE"
   ]
  },
  {
   "cell_type": "code",
   "execution_count": 3,
   "metadata": {
    "ExecuteTime": {
     "end_time": "2020-11-01T19:28:44.665116Z",
     "start_time": "2020-11-01T19:28:43.220670Z"
    }
   },
   "outputs": [],
   "source": [
    "dat_train = pd.read_feather(\"../output/dat_train.feather\")\n",
    "dat_test = pd.read_feather(\"../output/dat_test.feather\")\n"
   ]
  },
  {
   "cell_type": "code",
   "execution_count": 4,
   "metadata": {
    "ExecuteTime": {
     "end_time": "2020-11-01T19:28:45.201479Z",
     "start_time": "2020-11-01T19:28:44.673029Z"
    }
   },
   "outputs": [],
   "source": [
    "images_train = dat_train.loc[:,dat_train.columns != 'label']\n",
    "labels_train = dat_train.loc[:,'label'].astype(int)\n",
    "images_val = dat_test.loc[:,dat_test.columns != 'label']\n",
    "labels_val = dat_test.loc[:,'label'].astype(int)"
   ]
  },
  {
   "cell_type": "code",
   "execution_count": 5,
   "metadata": {
    "ExecuteTime": {
     "end_time": "2020-11-01T19:28:45.828095Z",
     "start_time": "2020-11-01T19:28:45.256266Z"
    }
   },
   "outputs": [],
   "source": [
    "images_train = np.array(images_train)\n",
    "labels_train = np.array(labels_train)\n",
    "images_val = np.array(images_val)\n",
    "labels_val = np.array(labels_val)\n",
    "\n",
    "nepochs = 100\n",
    "batch_size = 128"
   ]
  },
  {
   "cell_type": "code",
   "execution_count": 6,
   "metadata": {
    "ExecuteTime": {
     "end_time": "2020-11-01T19:28:55.043474Z",
     "start_time": "2020-11-01T19:28:45.847900Z"
    }
   },
   "outputs": [],
   "source": [
    "sm = SMOTE()\n",
    "x_res_train, y_res_train = sm.fit_resample(images_train, labels_train)\n",
    "x_res_val, y_res_val = sm.fit_resample(images_val, labels_val)"
   ]
  },
  {
   "cell_type": "code",
   "execution_count": 7,
   "metadata": {
    "ExecuteTime": {
     "end_time": "2020-11-01T19:28:55.068033Z",
     "start_time": "2020-11-01T19:28:55.046820Z"
    }
   },
   "outputs": [],
   "source": [
    "def build_model(n_layers,hidden):\n",
    "    model=keras.Sequential()\n",
    "    model.add(keras.layers.Flatten())\n",
    "    for i1 in range(n_layers):\n",
    "        model.add(keras.layers.Dense(hidden,activation=\"relu\"))\n",
    "    model.add(keras.layers.Dense(10,activation=\"softmax\"))\n",
    "    return model\n"
   ]
  },
  {
   "cell_type": "markdown",
   "metadata": {},
   "source": [
    "# Scale Data"
   ]
  },
  {
   "cell_type": "code",
   "execution_count": 8,
   "metadata": {
    "ExecuteTime": {
     "end_time": "2020-11-01T19:37:28.512408Z",
     "start_time": "2020-11-01T19:28:55.091531Z"
    }
   },
   "outputs": [
    {
     "name": "stdout",
     "output_type": "stream",
     "text": [
      ">>>> 1,16: 0.7597137014314929\n",
      ">>>> 1,32: 0.7597137014314929\n",
      ">>>> 1,64: 0.7075664621676891\n",
      ">>>> 1,128: 0.6860940695296524\n",
      ">>>> 2,16: 0.5\n",
      ">>>> 2,32: 0.6206543967280164\n",
      ">>>> 2,64: 0.7116564417177914\n",
      ">>>> 2,128: 0.5\n",
      ">>>> 3,16: 0.5\n",
      ">>>> 3,32: 0.5623721881390593\n",
      ">>>> 3,64: 0.5\n",
      ">>>> 3,128: 0.5\n",
      ">>>> 4,16: 0.7229038854805726\n",
      ">>>> 4,32: 0.5\n",
      ">>>> 4,64: 0.7474437627811861\n",
      ">>>> 4,128: 0.7280163599182005\n",
      ">>>> 5,16: 0.6339468302658486\n",
      ">>>> 5,32: 0.7310838445807771\n",
      ">>>> 5,64: 0.5\n",
      ">>>> 5,128: 0.5\n"
     ]
    }
   ],
   "source": [
    "results=[]\n",
    "layers_array = [1,2,3,4,5]\n",
    "nodes_array = [16,32,64,128]\n",
    "for n_layers  in layers_array:\n",
    "    for hidden in nodes_array:\n",
    "        model=build_model(n_layers,hidden)\n",
    "        model.compile(optimizer=\"adam\",loss=\"sparse_categorical_crossentropy\",metrics=[\"accuracy\"])\n",
    "        model.fit(x = x_res_train, y = y_res_train, batch_size=128, epochs =100, verbose=0, validation_data=(x_res_val,y_res_val))\n",
    "        Y_pred=np.argmax(model.predict(x_res_val),axis=1)\n",
    "        acc=np.mean(Y_pred==y_res_val)\n",
    "        results.append((n_layers,hidden,acc))\n",
    "        print(f\">>>> {n_layers},{hidden}: {acc}\")"
   ]
  },
  {
   "cell_type": "code",
   "execution_count": 9,
   "metadata": {
    "ExecuteTime": {
     "end_time": "2020-11-01T19:37:28.538685Z",
     "start_time": "2020-11-01T19:37:28.521957Z"
    }
   },
   "outputs": [
    {
     "data": {
      "text/html": [
       "<div>\n",
       "<style scoped>\n",
       "    .dataframe tbody tr th:only-of-type {\n",
       "        vertical-align: middle;\n",
       "    }\n",
       "\n",
       "    .dataframe tbody tr th {\n",
       "        vertical-align: top;\n",
       "    }\n",
       "\n",
       "    .dataframe thead th {\n",
       "        text-align: right;\n",
       "    }\n",
       "</style>\n",
       "<table border=\"1\" class=\"dataframe\">\n",
       "  <thead>\n",
       "    <tr style=\"text-align: right;\">\n",
       "      <th></th>\n",
       "      <th>n_layers</th>\n",
       "      <th>hidden</th>\n",
       "      <th>accuracy</th>\n",
       "    </tr>\n",
       "  </thead>\n",
       "  <tbody>\n",
       "    <tr>\n",
       "      <td>0</td>\n",
       "      <td>1</td>\n",
       "      <td>16</td>\n",
       "      <td>0.759714</td>\n",
       "    </tr>\n",
       "    <tr>\n",
       "      <td>1</td>\n",
       "      <td>1</td>\n",
       "      <td>32</td>\n",
       "      <td>0.759714</td>\n",
       "    </tr>\n",
       "    <tr>\n",
       "      <td>2</td>\n",
       "      <td>1</td>\n",
       "      <td>64</td>\n",
       "      <td>0.707566</td>\n",
       "    </tr>\n",
       "    <tr>\n",
       "      <td>3</td>\n",
       "      <td>1</td>\n",
       "      <td>128</td>\n",
       "      <td>0.686094</td>\n",
       "    </tr>\n",
       "    <tr>\n",
       "      <td>4</td>\n",
       "      <td>2</td>\n",
       "      <td>16</td>\n",
       "      <td>0.500000</td>\n",
       "    </tr>\n",
       "    <tr>\n",
       "      <td>5</td>\n",
       "      <td>2</td>\n",
       "      <td>32</td>\n",
       "      <td>0.620654</td>\n",
       "    </tr>\n",
       "    <tr>\n",
       "      <td>6</td>\n",
       "      <td>2</td>\n",
       "      <td>64</td>\n",
       "      <td>0.711656</td>\n",
       "    </tr>\n",
       "    <tr>\n",
       "      <td>7</td>\n",
       "      <td>2</td>\n",
       "      <td>128</td>\n",
       "      <td>0.500000</td>\n",
       "    </tr>\n",
       "    <tr>\n",
       "      <td>8</td>\n",
       "      <td>3</td>\n",
       "      <td>16</td>\n",
       "      <td>0.500000</td>\n",
       "    </tr>\n",
       "    <tr>\n",
       "      <td>9</td>\n",
       "      <td>3</td>\n",
       "      <td>32</td>\n",
       "      <td>0.562372</td>\n",
       "    </tr>\n",
       "    <tr>\n",
       "      <td>10</td>\n",
       "      <td>3</td>\n",
       "      <td>64</td>\n",
       "      <td>0.500000</td>\n",
       "    </tr>\n",
       "    <tr>\n",
       "      <td>11</td>\n",
       "      <td>3</td>\n",
       "      <td>128</td>\n",
       "      <td>0.500000</td>\n",
       "    </tr>\n",
       "    <tr>\n",
       "      <td>12</td>\n",
       "      <td>4</td>\n",
       "      <td>16</td>\n",
       "      <td>0.722904</td>\n",
       "    </tr>\n",
       "    <tr>\n",
       "      <td>13</td>\n",
       "      <td>4</td>\n",
       "      <td>32</td>\n",
       "      <td>0.500000</td>\n",
       "    </tr>\n",
       "    <tr>\n",
       "      <td>14</td>\n",
       "      <td>4</td>\n",
       "      <td>64</td>\n",
       "      <td>0.747444</td>\n",
       "    </tr>\n",
       "    <tr>\n",
       "      <td>15</td>\n",
       "      <td>4</td>\n",
       "      <td>128</td>\n",
       "      <td>0.728016</td>\n",
       "    </tr>\n",
       "    <tr>\n",
       "      <td>16</td>\n",
       "      <td>5</td>\n",
       "      <td>16</td>\n",
       "      <td>0.633947</td>\n",
       "    </tr>\n",
       "    <tr>\n",
       "      <td>17</td>\n",
       "      <td>5</td>\n",
       "      <td>32</td>\n",
       "      <td>0.731084</td>\n",
       "    </tr>\n",
       "    <tr>\n",
       "      <td>18</td>\n",
       "      <td>5</td>\n",
       "      <td>64</td>\n",
       "      <td>0.500000</td>\n",
       "    </tr>\n",
       "    <tr>\n",
       "      <td>19</td>\n",
       "      <td>5</td>\n",
       "      <td>128</td>\n",
       "      <td>0.500000</td>\n",
       "    </tr>\n",
       "  </tbody>\n",
       "</table>\n",
       "</div>"
      ],
      "text/plain": [
       "    n_layers  hidden  accuracy\n",
       "0          1      16  0.759714\n",
       "1          1      32  0.759714\n",
       "2          1      64  0.707566\n",
       "3          1     128  0.686094\n",
       "4          2      16  0.500000\n",
       "5          2      32  0.620654\n",
       "6          2      64  0.711656\n",
       "7          2     128  0.500000\n",
       "8          3      16  0.500000\n",
       "9          3      32  0.562372\n",
       "10         3      64  0.500000\n",
       "11         3     128  0.500000\n",
       "12         4      16  0.722904\n",
       "13         4      32  0.500000\n",
       "14         4      64  0.747444\n",
       "15         4     128  0.728016\n",
       "16         5      16  0.633947\n",
       "17         5      32  0.731084\n",
       "18         5      64  0.500000\n",
       "19         5     128  0.500000"
      ]
     },
     "execution_count": 9,
     "metadata": {},
     "output_type": "execute_result"
    }
   ],
   "source": [
    "data=pd.DataFrame(results,columns=[\"n_layers\",\"hidden\",\"accuracy\"])\n",
    "data"
   ]
  },
  {
   "cell_type": "code",
   "execution_count": 10,
   "metadata": {
    "ExecuteTime": {
     "end_time": "2020-11-01T19:37:28.555036Z",
     "start_time": "2020-11-01T19:37:28.542890Z"
    }
   },
   "outputs": [
    {
     "data": {
      "text/plain": [
       "n_layers     1.000000\n",
       "hidden      16.000000\n",
       "accuracy     0.759714\n",
       "Name: 0, dtype: float64"
      ]
     },
     "execution_count": 10,
     "metadata": {},
     "output_type": "execute_result"
    }
   ],
   "source": [
    "best=data.iloc[data[\"accuracy\"].idxmax()]\n",
    "best_n_layers=int(best[\"n_layers\"])\n",
    "best_hidden=int(best[\"hidden\"])\n",
    "best"
   ]
  },
  {
   "cell_type": "code",
   "execution_count": 11,
   "metadata": {
    "ExecuteTime": {
     "end_time": "2020-11-01T19:37:51.859992Z",
     "start_time": "2020-11-01T19:37:28.560080Z"
    }
   },
   "outputs": [
    {
     "data": {
      "text/plain": [
       "<tensorflow.python.keras.callbacks.History at 0x7f8a69af6950>"
      ]
     },
     "execution_count": 11,
     "metadata": {},
     "output_type": "execute_result"
    }
   ],
   "source": [
    "model = build_model(3,32)\n",
    "model.compile(loss='sparse_categorical_crossentropy',optimizer='adam',metrics=['accuracy']) \n",
    "model.fit(x_res_train,y_res_train,\n",
    "          verbose=0,batch_size=128, epochs =100,\n",
    "         validation_data=(x_res_val,y_res_val))"
   ]
  },
  {
   "cell_type": "code",
   "execution_count": 12,
   "metadata": {
    "ExecuteTime": {
     "end_time": "2020-11-01T19:37:51.996356Z",
     "start_time": "2020-11-01T19:37:51.863024Z"
    }
   },
   "outputs": [
    {
     "data": {
      "text/plain": [
       "0.275"
      ]
     },
     "execution_count": 12,
     "metadata": {},
     "output_type": "execute_result"
    }
   ],
   "source": [
    "Y_pred=np.argmax(model.predict(images_val),axis=1)\n",
    "np.mean(Y_pred==labels_val)"
   ]
  },
  {
   "cell_type": "code",
   "execution_count": 13,
   "metadata": {
    "ExecuteTime": {
     "end_time": "2020-11-01T19:37:52.104541Z",
     "start_time": "2020-11-01T19:37:51.999548Z"
    }
   },
   "outputs": [
    {
     "name": "stdout",
     "output_type": "stream",
     "text": [
      "0.7153595313104515\n"
     ]
    }
   ],
   "source": [
    "from sklearn import metrics\n",
    "prob=model.predict_proba(images_val)\n",
    "fpr,tpr,threshold=metrics.roc_curve(labels_val,prob[:,1])\n",
    "roc=np.c_[fpr,tpr,threshold]\n",
    "data=pd.DataFrame(roc,columns=[\"fpr\",\"tpr\",\"threshold\"])\n",
    "\n",
    "auc=metrics.roc_auc_score(labels_val,prob[:,1])\n",
    "print(auc)\n"
   ]
  },
  {
   "cell_type": "code",
   "execution_count": 14,
   "metadata": {
    "ExecuteTime": {
     "end_time": "2020-11-01T19:37:52.342005Z",
     "start_time": "2020-11-01T19:37:52.109916Z"
    }
   },
   "outputs": [
    {
     "data": {
      "text/plain": [
       "[<matplotlib.lines.Line2D at 0x7f8a6ea7f750>]"
      ]
     },
     "execution_count": 14,
     "metadata": {},
     "output_type": "execute_result"
    },
    {
     "data": {
      "image/png": "[encoded data removed]",
      "text/plain": [
       "<Figure size 720x576 with 1 Axes>"
      ]
     },
     "metadata": {
      "needs_background": "light"
     },
     "output_type": "display_data"
    }
   ],
   "source": [
    "plt.figure(figsize=(10,8))\n",
    "ax = plt.gca()\n",
    "plt.plot(fpr,tpr)"
   ]
  },
  {
   "cell_type": "markdown",
   "metadata": {},
   "source": [
    "# Imbalanced Data"
   ]
  },
  {
   "cell_type": "code",
   "execution_count": 15,
   "metadata": {
    "ExecuteTime": {
     "end_time": "2020-11-01T19:46:44.866140Z",
     "start_time": "2020-11-01T19:37:52.345576Z"
    }
   },
   "outputs": [
    {
     "name": "stdout",
     "output_type": "stream",
     "text": [
      ">>>> 1,16: 0.815\n",
      ">>>> 1,32: 0.8266666666666667\n",
      ">>>> 1,64: 0.8233333333333334\n",
      ">>>> 1,128: 0.815\n",
      ">>>> 2,16: 0.185\n",
      ">>>> 2,32: 0.815\n",
      ">>>> 2,64: 0.815\n",
      ">>>> 2,128: 0.815\n",
      ">>>> 3,16: 0.815\n",
      ">>>> 3,32: 0.815\n",
      ">>>> 3,64: 0.82\n",
      ">>>> 3,128: 0.815\n",
      ">>>> 4,16: 0.815\n",
      ">>>> 4,32: 0.8233333333333334\n",
      ">>>> 4,64: 0.815\n",
      ">>>> 4,128: 0.815\n",
      ">>>> 5,16: 0.815\n",
      ">>>> 5,32: 0.815\n",
      ">>>> 5,64: 0.815\n",
      ">>>> 5,128: 0.79\n"
     ]
    }
   ],
   "source": [
    "results=[]\n",
    "layers_array = [1,2,3,4,5]\n",
    "nodes_array = [16,32,64,128]\n",
    "for n_layers  in layers_array:\n",
    "    for hidden in nodes_array:\n",
    "        model=build_model(n_layers,hidden)\n",
    "        model.compile(optimizer=\"adam\",loss=\"sparse_categorical_crossentropy\",metrics=[\"accuracy\"])\n",
    "        model.fit(x = images_train, y = labels_train, batch_size=48, epochs =100, verbose=0, validation_data=(images_val,labels_val))\n",
    "        Y_pred=np.argmax(model.predict(images_val),axis=1)\n",
    "        acc=np.mean(Y_pred==labels_val)\n",
    "        results.append((n_layers,hidden,acc))\n",
    "        print(f\">>>> {n_layers},{hidden}: {acc}\")"
   ]
  },
  {
   "cell_type": "code",
   "execution_count": 16,
   "metadata": {
    "ExecuteTime": {
     "end_time": "2020-11-01T19:52:12.640992Z",
     "start_time": "2020-11-01T19:46:44.869342Z"
    }
   },
   "outputs": [
    {
     "name": "stdout",
     "output_type": "stream",
     "text": [
      ">>>> 1,16: 0.815\n",
      ">>>> 1,32: 0.835\n",
      ">>>> 1,64: 0.815\n",
      ">>>> 1,128: 0.815\n",
      ">>>> 2,16: 0.815\n",
      ">>>> 2,32: 0.82\n",
      ">>>> 2,64: 0.8233333333333334\n",
      ">>>> 2,128: 0.825\n",
      ">>>> 3,16: 0.815\n",
      ">>>> 3,32: 0.815\n",
      ">>>> 3,64: 0.815\n",
      ">>>> 3,128: 0.815\n",
      ">>>> 4,16: 0.82\n",
      ">>>> 4,32: 0.82\n",
      ">>>> 4,64: 0.8166666666666667\n",
      ">>>> 4,128: 0.815\n",
      ">>>> 5,16: 0.815\n",
      ">>>> 5,32: 0.815\n",
      ">>>> 5,64: 0.8166666666666667\n",
      ">>>> 5,128: 0.82\n"
     ]
    }
   ],
   "source": [
    "results=[]\n",
    "layers_array = [1,2,3,4,5]\n",
    "nodes_array = [16,32,64,128]\n",
    "for n_layers  in layers_array:\n",
    "    for hidden in nodes_array:\n",
    "        model=build_model(n_layers,hidden)\n",
    "        model.compile(optimizer=\"adam\",loss=\"sparse_categorical_crossentropy\",metrics=[\"accuracy\"])\n",
    "        model.fit(x = images_train, y = labels_train, batch_size=128, epochs =100, verbose=0, validation_data=(images_val,labels_val))\n",
    "        Y_pred=np.argmax(model.predict(images_val),axis=1)\n",
    "        acc=np.mean(Y_pred==labels_val)\n",
    "        results.append((n_layers,hidden,acc))\n",
    "        print(f\">>>> {n_layers},{hidden}: {acc}\")"
   ]
  },
  {
   "cell_type": "code",
   "execution_count": 17,
   "metadata": {
    "ExecuteTime": {
     "end_time": "2020-11-01T19:52:25.958101Z",
     "start_time": "2020-11-01T19:52:12.644273Z"
    }
   },
   "outputs": [
    {
     "name": "stdout",
     "output_type": "stream",
     "text": [
      "Train on 2400 samples, validate on 600 samples\n",
      "Epoch 1/100\n",
      "2400/2400 [==============================] - 1s 233us/sample - loss: 23.0128 - accuracy: 0.5929 - val_loss: 2.2580 - val_accuracy: 0.8150\n",
      "Epoch 2/100\n",
      "2400/2400 [==============================] - 0s 49us/sample - loss: 2.2319 - accuracy: 0.7971 - val_loss: 2.1989 - val_accuracy: 0.8150\n",
      "Epoch 3/100\n",
      "2400/2400 [==============================] - 0s 48us/sample - loss: 2.1685 - accuracy: 0.7971 - val_loss: 2.1291 - val_accuracy: 0.8150\n",
      "Epoch 4/100\n",
      "2400/2400 [==============================] - 0s 48us/sample - loss: 2.0936 - accuracy: 0.7971 - val_loss: 2.0464 - val_accuracy: 0.8150\n",
      "Epoch 5/100\n",
      "2400/2400 [==============================] - 0s 48us/sample - loss: 2.0048 - accuracy: 0.7971 - val_loss: 1.9487 - val_accuracy: 0.8150\n",
      "Epoch 6/100\n",
      "2400/2400 [==============================] - 0s 52us/sample - loss: 1.9008 - accuracy: 0.7971 - val_loss: 1.8349 - val_accuracy: 0.8150\n",
      "Epoch 7/100\n",
      "2400/2400 [==============================] - 0s 52us/sample - loss: 1.7807 - accuracy: 0.7971 - val_loss: 1.7054 - val_accuracy: 0.8150\n",
      "Epoch 8/100\n",
      "2400/2400 [==============================] - 0s 58us/sample - loss: 1.6459 - accuracy: 0.7971 - val_loss: 1.5622 - val_accuracy: 0.8150\n",
      "Epoch 9/100\n",
      "2400/2400 [==============================] - 0s 48us/sample - loss: 1.4995 - accuracy: 0.7971 - val_loss: 1.4103 - val_accuracy: 0.8150\n",
      "Epoch 10/100\n",
      "2400/2400 [==============================] - 0s 49us/sample - loss: 1.3476 - accuracy: 0.7971 - val_loss: 1.2561 - val_accuracy: 0.8150\n",
      "Epoch 11/100\n",
      "2400/2400 [==============================] - 0s 47us/sample - loss: 1.1976 - accuracy: 0.7971 - val_loss: 1.1083 - val_accuracy: 0.8150\n",
      "Epoch 12/100\n",
      "2400/2400 [==============================] - 0s 48us/sample - loss: 1.0584 - accuracy: 0.7971 - val_loss: 0.9749 - val_accuracy: 0.8150\n",
      "Epoch 13/100\n",
      "2400/2400 [==============================] - 0s 48us/sample - loss: 0.9364 - accuracy: 0.7971 - val_loss: 0.8630 - val_accuracy: 0.8150\n",
      "Epoch 14/100\n",
      "2400/2400 [==============================] - 0s 49us/sample - loss: 0.8368 - accuracy: 0.7971 - val_loss: 0.7736 - val_accuracy: 0.8150\n",
      "Epoch 15/100\n",
      "2400/2400 [==============================] - 0s 48us/sample - loss: 0.7601 - accuracy: 0.7971 - val_loss: 0.7049 - val_accuracy: 0.8150\n",
      "Epoch 16/100\n",
      "2400/2400 [==============================] - 0s 55us/sample - loss: 0.7026 - accuracy: 0.7971 - val_loss: 0.6549 - val_accuracy: 0.8150\n",
      "Epoch 17/100\n",
      "2400/2400 [==============================] - 0s 49us/sample - loss: 0.6608 - accuracy: 0.7971 - val_loss: 0.6190 - val_accuracy: 0.8150\n",
      "Epoch 18/100\n",
      "2400/2400 [==============================] - 0s 47us/sample - loss: 0.6305 - accuracy: 0.7971 - val_loss: 0.5929 - val_accuracy: 0.8150\n",
      "Epoch 19/100\n",
      "2400/2400 [==============================] - 0s 72us/sample - loss: 0.6083 - accuracy: 0.7971 - val_loss: 0.5731 - val_accuracy: 0.8150\n",
      "Epoch 20/100\n",
      "2400/2400 [==============================] - 0s 51us/sample - loss: 0.5915 - accuracy: 0.7971 - val_loss: 0.5582 - val_accuracy: 0.8150\n",
      "Epoch 21/100\n",
      "2400/2400 [==============================] - 0s 47us/sample - loss: 0.5786 - accuracy: 0.7971 - val_loss: 0.5467 - val_accuracy: 0.8150\n",
      "Epoch 22/100\n",
      "2400/2400 [==============================] - 0s 49us/sample - loss: 0.5684 - accuracy: 0.7971 - val_loss: 0.5376 - val_accuracy: 0.8150\n",
      "Epoch 23/100\n",
      "2400/2400 [==============================] - 0s 48us/sample - loss: 0.5602 - accuracy: 0.7971 - val_loss: 0.5303 - val_accuracy: 0.8150\n",
      "Epoch 24/100\n",
      "2400/2400 [==============================] - 0s 53us/sample - loss: 0.5534 - accuracy: 0.7971 - val_loss: 0.5243 - val_accuracy: 0.8150\n",
      "Epoch 25/100\n",
      "2400/2400 [==============================] - 0s 47us/sample - loss: 0.5478 - accuracy: 0.7971 - val_loss: 0.5192 - val_accuracy: 0.8150\n",
      "Epoch 26/100\n",
      "2400/2400 [==============================] - 0s 48us/sample - loss: 0.5431 - accuracy: 0.7971 - val_loss: 0.5152 - val_accuracy: 0.8150\n",
      "Epoch 27/100\n",
      "2400/2400 [==============================] - 0s 49us/sample - loss: 0.5392 - accuracy: 0.7971 - val_loss: 0.5117 - val_accuracy: 0.8150\n",
      "Epoch 28/100\n",
      "2400/2400 [==============================] - 0s 54us/sample - loss: 0.5358 - accuracy: 0.7971 - val_loss: 0.5084 - val_accuracy: 0.8150\n",
      "Epoch 29/100\n",
      "2400/2400 [==============================] - 0s 58us/sample - loss: 0.5329 - accuracy: 0.7971 - val_loss: 0.5059 - val_accuracy: 0.8150\n",
      "Epoch 30/100\n",
      "2400/2400 [==============================] - 0s 53us/sample - loss: 0.5303 - accuracy: 0.7971 - val_loss: 0.5036 - val_accuracy: 0.8150\n",
      "Epoch 31/100\n",
      "2400/2400 [==============================] - 0s 48us/sample - loss: 0.5281 - accuracy: 0.7971 - val_loss: 0.5018 - val_accuracy: 0.8150\n",
      "Epoch 32/100\n",
      "2400/2400 [==============================] - 0s 49us/sample - loss: 0.5261 - accuracy: 0.7971 - val_loss: 0.4999 - val_accuracy: 0.8150\n",
      "Epoch 33/100\n",
      "2400/2400 [==============================] - 0s 53us/sample - loss: 0.5245 - accuracy: 0.7971 - val_loss: 0.4982 - val_accuracy: 0.8150\n",
      "Epoch 34/100\n",
      "2400/2400 [==============================] - 0s 48us/sample - loss: 0.5231 - accuracy: 0.7971 - val_loss: 0.4973 - val_accuracy: 0.8150\n",
      "Epoch 35/100\n",
      "2400/2400 [==============================] - 0s 54us/sample - loss: 0.5216 - accuracy: 0.7971 - val_loss: 0.4957 - val_accuracy: 0.8150\n",
      "Epoch 36/100\n",
      "2400/2400 [==============================] - 0s 47us/sample - loss: 0.5204 - accuracy: 0.7971 - val_loss: 0.4947 - val_accuracy: 0.8150\n",
      "Epoch 37/100\n",
      "2400/2400 [==============================] - 0s 51us/sample - loss: 0.5194 - accuracy: 0.7971 - val_loss: 0.4935 - val_accuracy: 0.8150\n",
      "Epoch 38/100\n",
      "2400/2400 [==============================] - 0s 50us/sample - loss: 0.5183 - accuracy: 0.7971 - val_loss: 0.4927 - val_accuracy: 0.8150\n",
      "Epoch 39/100\n",
      "2400/2400 [==============================] - 0s 48us/sample - loss: 0.5174 - accuracy: 0.7971 - val_loss: 0.4920 - val_accuracy: 0.8150\n",
      "Epoch 40/100\n",
      "2400/2400 [==============================] - 0s 51us/sample - loss: 0.5166 - accuracy: 0.7971 - val_loss: 0.4913 - val_accuracy: 0.8150\n",
      "Epoch 41/100\n",
      "2400/2400 [==============================] - 0s 56us/sample - loss: 0.5159 - accuracy: 0.7971 - val_loss: 0.4905 - val_accuracy: 0.8150\n",
      "Epoch 42/100\n",
      "2400/2400 [==============================] - 0s 49us/sample - loss: 0.5152 - accuracy: 0.7971 - val_loss: 0.4900 - val_accuracy: 0.8150\n",
      "Epoch 43/100\n",
      "2400/2400 [==============================] - 0s 48us/sample - loss: 0.5146 - accuracy: 0.7971 - val_loss: 0.4894 - val_accuracy: 0.8150\n",
      "Epoch 44/100\n",
      "2400/2400 [==============================] - 0s 49us/sample - loss: 0.5140 - accuracy: 0.7971 - val_loss: 0.4888 - val_accuracy: 0.8150\n",
      "Epoch 45/100\n",
      "2400/2400 [==============================] - 0s 49us/sample - loss: 0.5135 - accuracy: 0.7971 - val_loss: 0.4885 - val_accuracy: 0.8150\n",
      "Epoch 46/100\n",
      "2400/2400 [==============================] - 0s 49us/sample - loss: 0.5131 - accuracy: 0.7971 - val_loss: 0.4878 - val_accuracy: 0.8150\n",
      "Epoch 47/100\n",
      "2400/2400 [==============================] - 0s 48us/sample - loss: 0.5126 - accuracy: 0.7971 - val_loss: 0.4876 - val_accuracy: 0.8150\n",
      "Epoch 48/100\n",
      "2400/2400 [==============================] - 0s 51us/sample - loss: 0.5122 - accuracy: 0.7971 - val_loss: 0.4872 - val_accuracy: 0.8150\n",
      "Epoch 49/100\n",
      "2400/2400 [==============================] - 0s 57us/sample - loss: 0.5119 - accuracy: 0.7971 - val_loss: 0.4870 - val_accuracy: 0.8150\n",
      "Epoch 50/100\n",
      "2400/2400 [==============================] - 0s 48us/sample - loss: 0.5115 - accuracy: 0.7971 - val_loss: 0.4865 - val_accuracy: 0.8150\n",
      "Epoch 51/100\n",
      "2400/2400 [==============================] - 0s 48us/sample - loss: 0.5112 - accuracy: 0.7971 - val_loss: 0.4862 - val_accuracy: 0.8150\n",
      "Epoch 52/100\n",
      "2400/2400 [==============================] - 0s 48us/sample - loss: 0.5109 - accuracy: 0.7971 - val_loss: 0.4860 - val_accuracy: 0.8150\n",
      "Epoch 53/100\n",
      "2400/2400 [==============================] - 0s 48us/sample - loss: 0.5106 - accuracy: 0.7971 - val_loss: 0.4857 - val_accuracy: 0.8150\n",
      "Epoch 54/100\n",
      "2400/2400 [==============================] - 0s 48us/sample - loss: 0.5103 - accuracy: 0.7971 - val_loss: 0.4854 - val_accuracy: 0.8150\n",
      "Epoch 55/100\n",
      "2400/2400 [==============================] - 0s 51us/sample - loss: 0.5100 - accuracy: 0.7971 - val_loss: 0.4850 - val_accuracy: 0.8150\n"
     ]
    },
    {
     "name": "stdout",
     "output_type": "stream",
     "text": [
      "Epoch 56/100\n",
      "2400/2400 [==============================] - 0s 49us/sample - loss: 0.5098 - accuracy: 0.7971 - val_loss: 0.4848 - val_accuracy: 0.8150\n",
      "Epoch 57/100\n",
      "2400/2400 [==============================] - 0s 55us/sample - loss: 0.5096 - accuracy: 0.7971 - val_loss: 0.4848 - val_accuracy: 0.8150\n",
      "Epoch 58/100\n",
      "2400/2400 [==============================] - 0s 49us/sample - loss: 0.5094 - accuracy: 0.7971 - val_loss: 0.4843 - val_accuracy: 0.8150\n",
      "Epoch 59/100\n",
      "2400/2400 [==============================] - 0s 48us/sample - loss: 0.5093 - accuracy: 0.7971 - val_loss: 0.4845 - val_accuracy: 0.8150\n",
      "Epoch 60/100\n",
      "2400/2400 [==============================] - 0s 48us/sample - loss: 0.5091 - accuracy: 0.7971 - val_loss: 0.4844 - val_accuracy: 0.8150\n",
      "Epoch 61/100\n",
      "2400/2400 [==============================] - 0s 48us/sample - loss: 0.5089 - accuracy: 0.7971 - val_loss: 0.4837 - val_accuracy: 0.8150\n",
      "Epoch 62/100\n",
      "2400/2400 [==============================] - 0s 53us/sample - loss: 0.5087 - accuracy: 0.7971 - val_loss: 0.4837 - val_accuracy: 0.8150\n",
      "Epoch 63/100\n",
      "2400/2400 [==============================] - 0s 49us/sample - loss: 0.5085 - accuracy: 0.7971 - val_loss: 0.4838 - val_accuracy: 0.8150\n",
      "Epoch 64/100\n",
      "2400/2400 [==============================] - 0s 47us/sample - loss: 0.5084 - accuracy: 0.7971 - val_loss: 0.4835 - val_accuracy: 0.8150\n",
      "Epoch 65/100\n",
      "2400/2400 [==============================] - 0s 49us/sample - loss: 0.5083 - accuracy: 0.7971 - val_loss: 0.4837 - val_accuracy: 0.8150\n",
      "Epoch 66/100\n",
      "2400/2400 [==============================] - 0s 55us/sample - loss: 0.5082 - accuracy: 0.7971 - val_loss: 0.4831 - val_accuracy: 0.8150\n",
      "Epoch 67/100\n",
      "2400/2400 [==============================] - 0s 50us/sample - loss: 0.5080 - accuracy: 0.7971 - val_loss: 0.4830 - val_accuracy: 0.8150\n",
      "Epoch 68/100\n",
      "2400/2400 [==============================] - 0s 49us/sample - loss: 0.5080 - accuracy: 0.7971 - val_loss: 0.4834 - val_accuracy: 0.8150\n",
      "Epoch 69/100\n",
      "2400/2400 [==============================] - 0s 49us/sample - loss: 0.5077 - accuracy: 0.7971 - val_loss: 0.4831 - val_accuracy: 0.8150\n",
      "Epoch 70/100\n",
      "2400/2400 [==============================] - 0s 48us/sample - loss: 0.5076 - accuracy: 0.7971 - val_loss: 0.4829 - val_accuracy: 0.8150\n",
      "Epoch 71/100\n",
      "2400/2400 [==============================] - 0s 48us/sample - loss: 0.5076 - accuracy: 0.7971 - val_loss: 0.4830 - val_accuracy: 0.8150\n",
      "Epoch 72/100\n",
      "2400/2400 [==============================] - 0s 48us/sample - loss: 0.5075 - accuracy: 0.7971 - val_loss: 0.4825 - val_accuracy: 0.8150\n",
      "Epoch 73/100\n",
      "2400/2400 [==============================] - 0s 48us/sample - loss: 0.5073 - accuracy: 0.7971 - val_loss: 0.4826 - val_accuracy: 0.8150\n",
      "Epoch 74/100\n",
      "2400/2400 [==============================] - 0s 53us/sample - loss: 0.5073 - accuracy: 0.7971 - val_loss: 0.4824 - val_accuracy: 0.8150\n",
      "Epoch 75/100\n",
      "2400/2400 [==============================] - 0s 47us/sample - loss: 0.5071 - accuracy: 0.7971 - val_loss: 0.4824 - val_accuracy: 0.8150\n",
      "Epoch 76/100\n",
      "2400/2400 [==============================] - 0s 47us/sample - loss: 0.5071 - accuracy: 0.7971 - val_loss: 0.4827 - val_accuracy: 0.8150\n",
      "Epoch 77/100\n",
      "2400/2400 [==============================] - 0s 47us/sample - loss: 0.5072 - accuracy: 0.7971 - val_loss: 0.4821 - val_accuracy: 0.8150\n",
      "Epoch 78/100\n",
      "2400/2400 [==============================] - 0s 48us/sample - loss: 0.5070 - accuracy: 0.7971 - val_loss: 0.4824 - val_accuracy: 0.8150\n",
      "Epoch 79/100\n",
      "2400/2400 [==============================] - 0s 47us/sample - loss: 0.5070 - accuracy: 0.7971 - val_loss: 0.4824 - val_accuracy: 0.8150\n",
      "Epoch 80/100\n",
      "2400/2400 [==============================] - 0s 48us/sample - loss: 0.5068 - accuracy: 0.7971 - val_loss: 0.4819 - val_accuracy: 0.8150\n",
      "Epoch 81/100\n",
      "2400/2400 [==============================] - 0s 52us/sample - loss: 0.5067 - accuracy: 0.7971 - val_loss: 0.4818 - val_accuracy: 0.8150\n",
      "Epoch 82/100\n",
      "2400/2400 [==============================] - 0s 47us/sample - loss: 0.5067 - accuracy: 0.7971 - val_loss: 0.4818 - val_accuracy: 0.8150\n",
      "Epoch 83/100\n",
      "2400/2400 [==============================] - 0s 62us/sample - loss: 0.5066 - accuracy: 0.7971 - val_loss: 0.4819 - val_accuracy: 0.8150\n",
      "Epoch 84/100\n",
      "2400/2400 [==============================] - 0s 86us/sample - loss: 0.5066 - accuracy: 0.7971 - val_loss: 0.4822 - val_accuracy: 0.8150\n",
      "Epoch 85/100\n",
      "2400/2400 [==============================] - 0s 63us/sample - loss: 0.5066 - accuracy: 0.7971 - val_loss: 0.4819 - val_accuracy: 0.8150\n",
      "Epoch 86/100\n",
      "2400/2400 [==============================] - 0s 58us/sample - loss: 0.5064 - accuracy: 0.7971 - val_loss: 0.4817 - val_accuracy: 0.8150\n",
      "Epoch 87/100\n",
      "2400/2400 [==============================] - 0s 51us/sample - loss: 0.5064 - accuracy: 0.7971 - val_loss: 0.4815 - val_accuracy: 0.8150\n",
      "Epoch 88/100\n",
      "2400/2400 [==============================] - 0s 49us/sample - loss: 0.5065 - accuracy: 0.7971 - val_loss: 0.4820 - val_accuracy: 0.8150\n",
      "Epoch 89/100\n",
      "2400/2400 [==============================] - 0s 62us/sample - loss: 0.5063 - accuracy: 0.7971 - val_loss: 0.4815 - val_accuracy: 0.8150\n",
      "Epoch 90/100\n",
      "2400/2400 [==============================] - 0s 61us/sample - loss: 0.5063 - accuracy: 0.7971 - val_loss: 0.4814 - val_accuracy: 0.8150\n",
      "Epoch 91/100\n",
      "2400/2400 [==============================] - 0s 49us/sample - loss: 0.5062 - accuracy: 0.7971 - val_loss: 0.4814 - val_accuracy: 0.8150\n",
      "Epoch 92/100\n",
      "2400/2400 [==============================] - 0s 49us/sample - loss: 0.5062 - accuracy: 0.7971 - val_loss: 0.4814 - val_accuracy: 0.8150\n",
      "Epoch 93/100\n",
      "2400/2400 [==============================] - 0s 49us/sample - loss: 0.5063 - accuracy: 0.7971 - val_loss: 0.4820 - val_accuracy: 0.8150\n",
      "Epoch 94/100\n",
      "2400/2400 [==============================] - 0s 48us/sample - loss: 0.5062 - accuracy: 0.7971 - val_loss: 0.4812 - val_accuracy: 0.8150\n",
      "Epoch 95/100\n",
      "2400/2400 [==============================] - 0s 48us/sample - loss: 0.5061 - accuracy: 0.7971 - val_loss: 0.4815 - val_accuracy: 0.8150\n",
      "Epoch 96/100\n",
      "2400/2400 [==============================] - 0s 47us/sample - loss: 0.5061 - accuracy: 0.7971 - val_loss: 0.4814 - val_accuracy: 0.8150\n",
      "Epoch 97/100\n",
      "2400/2400 [==============================] - 0s 48us/sample - loss: 0.5062 - accuracy: 0.7971 - val_loss: 0.4811 - val_accuracy: 0.8150\n",
      "Epoch 98/100\n",
      "2400/2400 [==============================] - 0s 52us/sample - loss: 0.5061 - accuracy: 0.7971 - val_loss: 0.4816 - val_accuracy: 0.8150\n",
      "Epoch 99/100\n",
      "2400/2400 [==============================] - 0s 47us/sample - loss: 0.5059 - accuracy: 0.7971 - val_loss: 0.4813 - val_accuracy: 0.8150\n",
      "Epoch 100/100\n",
      "2400/2400 [==============================] - 0s 47us/sample - loss: 0.5059 - accuracy: 0.7971 - val_loss: 0.4812 - val_accuracy: 0.8150\n"
     ]
    }
   ],
   "source": [
    "model = build_model(3,16)\n",
    "model.compile(loss='sparse_categorical_crossentropy',\n",
    "              optimizer='adam',\n",
    "              metrics=['accuracy']) \n",
    "result = model.fit(x = images_train, y = labels_train, batch_size=128,epochs =100,validation_data=(images_val,labels_val))\n"
   ]
  },
  {
   "cell_type": "code",
   "execution_count": 18,
   "metadata": {
    "ExecuteTime": {
     "end_time": "2020-11-01T19:52:26.113087Z",
     "start_time": "2020-11-01T19:52:25.960475Z"
    }
   },
   "outputs": [
    {
     "data": {
      "text/plain": [
       "0.815"
      ]
     },
     "execution_count": 18,
     "metadata": {},
     "output_type": "execute_result"
    }
   ],
   "source": [
    "Y_pred=np.argmax(model.predict(images_val),axis=1)\n",
    "np.mean(Y_pred==labels_val)"
   ]
  },
  {
   "cell_type": "code",
   "execution_count": 19,
   "metadata": {
    "ExecuteTime": {
     "end_time": "2020-11-01T19:52:26.129397Z",
     "start_time": "2020-11-01T19:52:26.118239Z"
    }
   },
   "outputs": [
    {
     "data": {
      "text/plain": [
       "0"
      ]
     },
     "execution_count": 19,
     "metadata": {},
     "output_type": "execute_result"
    }
   ],
   "source": [
    "sum(Y_pred)"
   ]
  },
  {
   "cell_type": "code",
   "execution_count": 20,
   "metadata": {
    "ExecuteTime": {
     "end_time": "2020-11-01T19:52:26.240701Z",
     "start_time": "2020-11-01T19:52:26.133957Z"
    }
   },
   "outputs": [
    {
     "name": "stdout",
     "output_type": "stream",
     "text": [
      "0.5\n"
     ]
    }
   ],
   "source": [
    "from sklearn import metrics\n",
    "prob=model.predict_proba(images_val)\n",
    "fpr,tpr,threshold=metrics.roc_curve(labels_val,prob[:,1])\n",
    "roc=np.c_[fpr,tpr,threshold]\n",
    "data=pd.DataFrame(roc,columns=[\"fpr\",\"tpr\",\"threshold\"])\n",
    "\n",
    "auc=metrics.roc_auc_score(labels_val,prob[:,1])\n",
    "print(auc)"
   ]
  },
  {
   "cell_type": "code",
   "execution_count": 21,
   "metadata": {
    "ExecuteTime": {
     "end_time": "2020-11-01T19:52:53.575346Z",
     "start_time": "2020-11-01T19:52:26.243616Z"
    }
   },
   "outputs": [
    {
     "name": "stdout",
     "output_type": "stream",
     "text": [
      "Train on 2400 samples, validate on 600 samples\n",
      "Epoch 1/100\n",
      "2400/2400 [==============================] - 1s 224us/sample - loss: 117.0627 - accuracy: 0.6600 - val_loss: 47.4489 - val_accuracy: 0.8150\n",
      "Epoch 2/100\n",
      "2400/2400 [==============================] - 0s 100us/sample - loss: 106.8408 - accuracy: 0.6746 - val_loss: 144.9669 - val_accuracy: 0.8150\n",
      "Epoch 3/100\n",
      "2400/2400 [==============================] - 0s 113us/sample - loss: 48.2407 - accuracy: 0.6971 - val_loss: 7.3412 - val_accuracy: 0.8133\n",
      "Epoch 4/100\n",
      "2400/2400 [==============================] - 0s 111us/sample - loss: 28.3880 - accuracy: 0.6988 - val_loss: 52.9636 - val_accuracy: 0.8150\n",
      "Epoch 5/100\n",
      "2400/2400 [==============================] - 0s 109us/sample - loss: 28.8687 - accuracy: 0.6933 - val_loss: 19.6756 - val_accuracy: 0.8150\n",
      "Epoch 6/100\n",
      "2400/2400 [==============================] - 0s 108us/sample - loss: 95.7395 - accuracy: 0.6750 - val_loss: 23.4580 - val_accuracy: 0.8150\n",
      "Epoch 7/100\n",
      "2400/2400 [==============================] - 0s 120us/sample - loss: 26.3640 - accuracy: 0.7121 - val_loss: 25.8267 - val_accuracy: 0.3750\n",
      "Epoch 8/100\n",
      "2400/2400 [==============================] - 0s 109us/sample - loss: 18.3945 - accuracy: 0.7092 - val_loss: 7.7801 - val_accuracy: 0.8217\n",
      "Epoch 9/100\n",
      "2400/2400 [==============================] - 0s 109us/sample - loss: 34.2245 - accuracy: 0.6858 - val_loss: 45.6751 - val_accuracy: 0.8150\n",
      "Epoch 10/100\n",
      "2400/2400 [==============================] - 0s 109us/sample - loss: 79.6659 - accuracy: 0.6908 - val_loss: 54.9182 - val_accuracy: 0.2750\n",
      "Epoch 11/100\n",
      "2400/2400 [==============================] - 0s 114us/sample - loss: 35.7591 - accuracy: 0.7038 - val_loss: 23.3718 - val_accuracy: 0.8150\n",
      "Epoch 12/100\n",
      "2400/2400 [==============================] - 0s 112us/sample - loss: 24.3655 - accuracy: 0.7029 - val_loss: 6.7069 - val_accuracy: 0.8000\n",
      "Epoch 13/100\n",
      "2400/2400 [==============================] - 0s 108us/sample - loss: 53.8848 - accuracy: 0.6950 - val_loss: 68.6475 - val_accuracy: 0.8150\n",
      "Epoch 14/100\n",
      "2400/2400 [==============================] - 0s 108us/sample - loss: 29.7600 - accuracy: 0.7325 - val_loss: 9.7967 - val_accuracy: 0.6683\n",
      "Epoch 15/100\n",
      "2400/2400 [==============================] - 0s 127us/sample - loss: 9.9613 - accuracy: 0.7533 - val_loss: 14.8030 - val_accuracy: 0.8167\n",
      "Epoch 16/100\n",
      "2400/2400 [==============================] - 0s 113us/sample - loss: 28.0674 - accuracy: 0.7229 - val_loss: 5.4208 - val_accuracy: 0.8033\n",
      "Epoch 17/100\n",
      "2400/2400 [==============================] - 0s 109us/sample - loss: 9.7342 - accuracy: 0.7583 - val_loss: 6.8377 - val_accuracy: 0.8217\n",
      "Epoch 18/100\n",
      "2400/2400 [==============================] - 0s 114us/sample - loss: 12.5742 - accuracy: 0.7362 - val_loss: 18.8564 - val_accuracy: 0.8150\n",
      "Epoch 19/100\n",
      "2400/2400 [==============================] - 0s 109us/sample - loss: 16.8727 - accuracy: 0.7300 - val_loss: 53.6868 - val_accuracy: 0.2217\n",
      "Epoch 20/100\n",
      "2400/2400 [==============================] - 0s 109us/sample - loss: 18.6456 - accuracy: 0.7129 - val_loss: 6.4079 - val_accuracy: 0.8200\n",
      "Epoch 21/100\n",
      "2400/2400 [==============================] - 0s 109us/sample - loss: 20.6263 - accuracy: 0.7167 - val_loss: 29.1874 - val_accuracy: 0.3317\n",
      "Epoch 22/100\n",
      "2400/2400 [==============================] - 0s 114us/sample - loss: 8.3121 - accuracy: 0.7708 - val_loss: 6.6606 - val_accuracy: 0.6800\n",
      "Epoch 23/100\n",
      "2400/2400 [==============================] - 0s 111us/sample - loss: 14.7568 - accuracy: 0.7287 - val_loss: 37.2754 - val_accuracy: 0.8150\n",
      "Epoch 24/100\n",
      "2400/2400 [==============================] - 0s 108us/sample - loss: 16.8945 - accuracy: 0.7329 - val_loss: 10.1579 - val_accuracy: 0.8200\n",
      "Epoch 25/100\n",
      "2400/2400 [==============================] - 0s 111us/sample - loss: 12.0079 - accuracy: 0.7462 - val_loss: 16.3043 - val_accuracy: 0.8150\n",
      "Epoch 26/100\n",
      "2400/2400 [==============================] - 0s 112us/sample - loss: 8.8151 - accuracy: 0.7646 - val_loss: 9.8123 - val_accuracy: 0.8183\n",
      "Epoch 27/100\n",
      "2400/2400 [==============================] - 0s 112us/sample - loss: 14.0072 - accuracy: 0.7225 - val_loss: 29.5690 - val_accuracy: 0.2900\n",
      "Epoch 28/100\n",
      "2400/2400 [==============================] - 0s 109us/sample - loss: 11.8871 - accuracy: 0.7337 - val_loss: 28.1140 - val_accuracy: 0.8150\n",
      "Epoch 29/100\n",
      "2400/2400 [==============================] - 0s 106us/sample - loss: 12.0603 - accuracy: 0.7379 - val_loss: 26.1445 - val_accuracy: 0.8150\n",
      "Epoch 30/100\n",
      "2400/2400 [==============================] - 0s 115us/sample - loss: 16.3101 - accuracy: 0.7233 - val_loss: 12.1795 - val_accuracy: 0.8183\n",
      "Epoch 31/100\n",
      "2400/2400 [==============================] - 0s 111us/sample - loss: 14.2419 - accuracy: 0.7329 - val_loss: 8.9358 - val_accuracy: 0.8267\n",
      "Epoch 32/100\n",
      "2400/2400 [==============================] - 0s 109us/sample - loss: 11.2452 - accuracy: 0.7400 - val_loss: 14.6259 - val_accuracy: 0.8167\n",
      "Epoch 33/100\n",
      "2400/2400 [==============================] - 0s 108us/sample - loss: 14.3590 - accuracy: 0.7283 - val_loss: 10.5161 - val_accuracy: 0.8217\n",
      "Epoch 34/100\n",
      "2400/2400 [==============================] - 0s 112us/sample - loss: 9.4762 - accuracy: 0.7533 - val_loss: 17.3936 - val_accuracy: 0.8150\n",
      "Epoch 35/100\n",
      "2400/2400 [==============================] - 0s 113us/sample - loss: 9.8280 - accuracy: 0.7575 - val_loss: 17.2501 - val_accuracy: 0.8150\n",
      "Epoch 36/100\n",
      "2400/2400 [==============================] - 0s 109us/sample - loss: 22.2513 - accuracy: 0.7150 - val_loss: 8.6673 - val_accuracy: 0.6350\n",
      "Epoch 37/100\n",
      "2400/2400 [==============================] - 0s 115us/sample - loss: 8.8953 - accuracy: 0.7563 - val_loss: 45.1325 - val_accuracy: 0.2217\n",
      "Epoch 38/100\n",
      "2400/2400 [==============================] - 0s 108us/sample - loss: 12.4921 - accuracy: 0.7462 - val_loss: 17.6433 - val_accuracy: 0.8150\n",
      "Epoch 39/100\n",
      "2400/2400 [==============================] - 0s 124us/sample - loss: 8.6651 - accuracy: 0.7563 - val_loss: 18.1982 - val_accuracy: 0.8150\n",
      "Epoch 40/100\n",
      "2400/2400 [==============================] - 0s 109us/sample - loss: 9.6538 - accuracy: 0.7650 - val_loss: 25.7785 - val_accuracy: 0.8150\n",
      "Epoch 41/100\n",
      "2400/2400 [==============================] - 0s 114us/sample - loss: 11.4378 - accuracy: 0.7425 - val_loss: 8.4470 - val_accuracy: 0.8200\n",
      "Epoch 42/100\n",
      "2400/2400 [==============================] - 0s 108us/sample - loss: 12.7690 - accuracy: 0.7400 - val_loss: 3.7680 - val_accuracy: 0.8100\n",
      "Epoch 43/100\n",
      "2400/2400 [==============================] - 0s 108us/sample - loss: 5.1351 - accuracy: 0.7908 - val_loss: 12.2785 - val_accuracy: 0.4717\n",
      "Epoch 44/100\n",
      "2400/2400 [==============================] - 0s 112us/sample - loss: 13.9846 - accuracy: 0.7212 - val_loss: 13.6592 - val_accuracy: 0.8150\n",
      "Epoch 45/100\n",
      "2400/2400 [==============================] - 0s 115us/sample - loss: 25.5281 - accuracy: 0.7212 - val_loss: 4.3221 - val_accuracy: 0.8283\n",
      "Epoch 46/100\n",
      "2400/2400 [==============================] - 0s 109us/sample - loss: 8.6199 - accuracy: 0.7621 - val_loss: 3.8682 - val_accuracy: 0.8250\n",
      "Epoch 47/100\n",
      "2400/2400 [==============================] - 0s 108us/sample - loss: 3.8838 - accuracy: 0.8033 - val_loss: 6.5215 - val_accuracy: 0.8217\n",
      "Epoch 48/100\n",
      "2400/2400 [==============================] - 0s 107us/sample - loss: 28.6272 - accuracy: 0.7008 - val_loss: 53.6108 - val_accuracy: 0.8150\n",
      "Epoch 49/100\n",
      "2400/2400 [==============================] - 0s 113us/sample - loss: 18.2847 - accuracy: 0.7267 - val_loss: 3.7463 - val_accuracy: 0.8233\n",
      "Epoch 50/100\n",
      "2400/2400 [==============================] - 0s 110us/sample - loss: 8.8927 - accuracy: 0.7483 - val_loss: 4.6619 - val_accuracy: 0.8250\n",
      "Epoch 51/100\n",
      "2400/2400 [==============================] - 0s 108us/sample - loss: 3.7103 - accuracy: 0.8071 - val_loss: 6.7173 - val_accuracy: 0.8233\n",
      "Epoch 52/100\n",
      "2400/2400 [==============================] - 0s 115us/sample - loss: 9.3216 - accuracy: 0.7500 - val_loss: 11.8552 - val_accuracy: 0.8150\n",
      "Epoch 53/100\n",
      "2400/2400 [==============================] - 0s 112us/sample - loss: 12.2105 - accuracy: 0.7262 - val_loss: 16.1188 - val_accuracy: 0.3883\n",
      "Epoch 54/100\n",
      "2400/2400 [==============================] - 0s 108us/sample - loss: 5.1026 - accuracy: 0.7708 - val_loss: 3.1615 - val_accuracy: 0.8000\n"
     ]
    },
    {
     "name": "stdout",
     "output_type": "stream",
     "text": [
      "Epoch 55/100\n",
      "2400/2400 [==============================] - 0s 108us/sample - loss: 7.4910 - accuracy: 0.7600 - val_loss: 11.1321 - val_accuracy: 0.8150\n",
      "Epoch 56/100\n",
      "2400/2400 [==============================] - 0s 115us/sample - loss: 12.4807 - accuracy: 0.7138 - val_loss: 12.3064 - val_accuracy: 0.4400\n",
      "Epoch 57/100\n",
      "2400/2400 [==============================] - 0s 105us/sample - loss: 4.1074 - accuracy: 0.7975 - val_loss: 6.9337 - val_accuracy: 0.5800\n",
      "Epoch 58/100\n",
      "2400/2400 [==============================] - 0s 109us/sample - loss: 3.3367 - accuracy: 0.7996 - val_loss: 2.8901 - val_accuracy: 0.8317\n",
      "Epoch 59/100\n",
      "2400/2400 [==============================] - 0s 108us/sample - loss: 3.2836 - accuracy: 0.8037 - val_loss: 3.6963 - val_accuracy: 0.8317\n",
      "Epoch 60/100\n",
      "2400/2400 [==============================] - 0s 113us/sample - loss: 4.9934 - accuracy: 0.7738 - val_loss: 3.3969 - val_accuracy: 0.8333\n",
      "Epoch 61/100\n",
      "2400/2400 [==============================] - 0s 108us/sample - loss: 16.5213 - accuracy: 0.6946 - val_loss: 3.0567 - val_accuracy: 0.8317\n",
      "Epoch 62/100\n",
      "2400/2400 [==============================] - 0s 109us/sample - loss: 5.0060 - accuracy: 0.7717 - val_loss: 7.0860 - val_accuracy: 0.8200\n",
      "Epoch 63/100\n",
      "2400/2400 [==============================] - 0s 110us/sample - loss: 3.7576 - accuracy: 0.8050 - val_loss: 3.0532 - val_accuracy: 0.7350\n",
      "Epoch 64/100\n",
      "2400/2400 [==============================] - 0s 114us/sample - loss: 7.2276 - accuracy: 0.7417 - val_loss: 2.7909 - val_accuracy: 0.8333\n",
      "Epoch 65/100\n",
      "2400/2400 [==============================] - 0s 107us/sample - loss: 3.5401 - accuracy: 0.7812 - val_loss: 9.8698 - val_accuracy: 0.8150\n",
      "Epoch 66/100\n",
      "2400/2400 [==============================] - 0s 109us/sample - loss: 8.9743 - accuracy: 0.7579 - val_loss: 3.5608 - val_accuracy: 0.8233\n",
      "Epoch 67/100\n",
      "2400/2400 [==============================] - 0s 123us/sample - loss: 3.8444 - accuracy: 0.7800 - val_loss: 2.0343 - val_accuracy: 0.8217\n",
      "Epoch 68/100\n",
      "2400/2400 [==============================] - 0s 119us/sample - loss: 4.7113 - accuracy: 0.7617 - val_loss: 3.5256 - val_accuracy: 0.8267\n",
      "Epoch 69/100\n",
      "2400/2400 [==============================] - 0s 115us/sample - loss: 4.1051 - accuracy: 0.7625 - val_loss: 7.7535 - val_accuracy: 0.8150\n",
      "Epoch 70/100\n",
      "2400/2400 [==============================] - 0s 111us/sample - loss: 8.1690 - accuracy: 0.7254 - val_loss: 7.0109 - val_accuracy: 0.8167\n",
      "Epoch 71/100\n",
      "2400/2400 [==============================] - 0s 108us/sample - loss: 5.1199 - accuracy: 0.7663 - val_loss: 2.2576 - val_accuracy: 0.7717\n",
      "Epoch 72/100\n",
      "2400/2400 [==============================] - 0s 112us/sample - loss: 7.3659 - accuracy: 0.7242 - val_loss: 1.9617 - val_accuracy: 0.8217\n",
      "Epoch 73/100\n",
      "2400/2400 [==============================] - 0s 108us/sample - loss: 2.6868 - accuracy: 0.7871 - val_loss: 5.9855 - val_accuracy: 0.8200\n",
      "Epoch 74/100\n",
      "2400/2400 [==============================] - 0s 109us/sample - loss: 3.2927 - accuracy: 0.7679 - val_loss: 2.5728 - val_accuracy: 0.7300\n",
      "Epoch 75/100\n",
      "2400/2400 [==============================] - 0s 113us/sample - loss: 4.6833 - accuracy: 0.7508 - val_loss: 3.5759 - val_accuracy: 0.8267\n",
      "Epoch 76/100\n",
      "2400/2400 [==============================] - 0s 112us/sample - loss: 3.4956 - accuracy: 0.7767 - val_loss: 2.9344 - val_accuracy: 0.8283\n",
      "Epoch 77/100\n",
      "2400/2400 [==============================] - 0s 114us/sample - loss: 2.2797 - accuracy: 0.7879 - val_loss: 1.6948 - val_accuracy: 0.8333\n",
      "Epoch 78/100\n",
      "2400/2400 [==============================] - 0s 112us/sample - loss: 2.8967 - accuracy: 0.7692 - val_loss: 2.6290 - val_accuracy: 0.8300\n",
      "Epoch 79/100\n",
      "2400/2400 [==============================] - 0s 114us/sample - loss: 4.4481 - accuracy: 0.7567 - val_loss: 10.2520 - val_accuracy: 0.3167\n",
      "Epoch 80/100\n",
      "2400/2400 [==============================] - 0s 108us/sample - loss: 2.1827 - accuracy: 0.7962 - val_loss: 2.1655 - val_accuracy: 0.8383\n",
      "Epoch 81/100\n",
      "2400/2400 [==============================] - 0s 118us/sample - loss: 2.3375 - accuracy: 0.7858 - val_loss: 1.6351 - val_accuracy: 0.8333\n",
      "Epoch 82/100\n",
      "2400/2400 [==============================] - 0s 114us/sample - loss: 3.0506 - accuracy: 0.7617 - val_loss: 2.2714 - val_accuracy: 0.8283\n",
      "Epoch 83/100\n",
      "2400/2400 [==============================] - 0s 107us/sample - loss: 2.3572 - accuracy: 0.7767 - val_loss: 2.1366 - val_accuracy: 0.8300\n",
      "Epoch 84/100\n",
      "2400/2400 [==============================] - 0s 108us/sample - loss: 3.1375 - accuracy: 0.7608 - val_loss: 5.9980 - val_accuracy: 0.8150\n",
      "Epoch 85/100\n",
      "2400/2400 [==============================] - 0s 110us/sample - loss: 5.3230 - accuracy: 0.7342 - val_loss: 1.9225 - val_accuracy: 0.8300\n",
      "Epoch 86/100\n",
      "2400/2400 [==============================] - 0s 116us/sample - loss: 2.1335 - accuracy: 0.7837 - val_loss: 1.3019 - val_accuracy: 0.8233\n",
      "Epoch 87/100\n",
      "2400/2400 [==============================] - 0s 108us/sample - loss: 7.2651 - accuracy: 0.7042 - val_loss: 13.4258 - val_accuracy: 0.8150\n",
      "Epoch 88/100\n",
      "2400/2400 [==============================] - 0s 109us/sample - loss: 8.7726 - accuracy: 0.7133 - val_loss: 2.3015 - val_accuracy: 0.6550\n",
      "Epoch 89/100\n",
      "2400/2400 [==============================] - 0s 108us/sample - loss: 1.5399 - accuracy: 0.7950 - val_loss: 1.8691 - val_accuracy: 0.8233\n",
      "Epoch 90/100\n",
      "2400/2400 [==============================] - 0s 112us/sample - loss: 1.1905 - accuracy: 0.8108 - val_loss: 1.1131 - val_accuracy: 0.7900\n",
      "Epoch 91/100\n",
      "2400/2400 [==============================] - 0s 114us/sample - loss: 1.7326 - accuracy: 0.7800 - val_loss: 5.7123 - val_accuracy: 0.8150\n",
      "Epoch 92/100\n",
      "2400/2400 [==============================] - 0s 108us/sample - loss: 6.6709 - accuracy: 0.6929 - val_loss: 6.1765 - val_accuracy: 0.8150\n",
      "Epoch 93/100\n",
      "2400/2400 [==============================] - 0s 114us/sample - loss: 2.9966 - accuracy: 0.7387 - val_loss: 1.0993 - val_accuracy: 0.8350\n",
      "Epoch 94/100\n",
      "2400/2400 [==============================] - 0s 107us/sample - loss: 0.8245 - accuracy: 0.8200 - val_loss: 0.8540 - val_accuracy: 0.8383\n",
      "Epoch 95/100\n",
      "2400/2400 [==============================] - 0s 115us/sample - loss: 0.8796 - accuracy: 0.8133 - val_loss: 0.8440 - val_accuracy: 0.8067\n",
      "Epoch 96/100\n",
      "2400/2400 [==============================] - 0s 108us/sample - loss: 0.9291 - accuracy: 0.8083 - val_loss: 0.8191 - val_accuracy: 0.8383\n",
      "Epoch 97/100\n",
      "2400/2400 [==============================] - 0s 113us/sample - loss: 0.7101 - accuracy: 0.8250 - val_loss: 0.7262 - val_accuracy: 0.8183\n",
      "Epoch 98/100\n",
      "2400/2400 [==============================] - 0s 116us/sample - loss: 0.6943 - accuracy: 0.8217 - val_loss: 0.9389 - val_accuracy: 0.7467\n",
      "Epoch 99/100\n",
      "2400/2400 [==============================] - 0s 108us/sample - loss: 0.9449 - accuracy: 0.7996 - val_loss: 2.4803 - val_accuracy: 0.8150\n",
      "Epoch 100/100\n",
      "2400/2400 [==============================] - 0s 124us/sample - loss: 0.8192 - accuracy: 0.8042 - val_loss: 0.6565 - val_accuracy: 0.8317\n"
     ]
    }
   ],
   "source": [
    "model = build_model(1,64)\n",
    "model.compile(loss='sparse_categorical_crossentropy',\n",
    "              optimizer='adam',\n",
    "              metrics=['accuracy']) \n",
    "result = model.fit(x = images_train, y = labels_train, batch_size=48, epochs =100,validation_data=(images_val,labels_val))\n"
   ]
  },
  {
   "cell_type": "code",
   "execution_count": 22,
   "metadata": {
    "ExecuteTime": {
     "end_time": "2020-11-01T19:52:53.699238Z",
     "start_time": "2020-11-01T19:52:53.578049Z"
    }
   },
   "outputs": [
    {
     "data": {
      "text/plain": [
       "0.8316666666666667"
      ]
     },
     "execution_count": 22,
     "metadata": {},
     "output_type": "execute_result"
    }
   ],
   "source": [
    "Y_pred=np.argmax(model.predict(images_val),axis=1)\n",
    "np.mean(Y_pred==labels_val)"
   ]
  },
  {
   "cell_type": "code",
   "execution_count": 23,
   "metadata": {
    "ExecuteTime": {
     "end_time": "2020-11-01T19:52:53.712662Z",
     "start_time": "2020-11-01T19:52:53.707676Z"
    }
   },
   "outputs": [
    {
     "data": {
      "text/plain": [
       "104"
      ]
     },
     "execution_count": 23,
     "metadata": {},
     "output_type": "execute_result"
    }
   ],
   "source": [
    "sum(Y_pred)"
   ]
  },
  {
   "cell_type": "code",
   "execution_count": 24,
   "metadata": {
    "ExecuteTime": {
     "end_time": "2020-11-01T19:52:53.821509Z",
     "start_time": "2020-11-01T19:52:53.715934Z"
    }
   },
   "outputs": [
    {
     "name": "stdout",
     "output_type": "stream",
     "text": [
      "0.810239687540301\n"
     ]
    }
   ],
   "source": [
    "from sklearn import metrics\n",
    "prob=model.predict_proba(images_val)\n",
    "fpr,tpr,threshold=metrics.roc_curve(labels_val,prob[:,1])\n",
    "roc=np.c_[fpr,tpr,threshold]\n",
    "data=pd.DataFrame(roc,columns=[\"fpr\",\"tpr\",\"threshold\"])\n",
    "\n",
    "auc=metrics.roc_auc_score(labels_val,prob[:,1])\n",
    "print(auc)"
   ]
  },
  {
   "cell_type": "code",
   "execution_count": 25,
   "metadata": {
    "ExecuteTime": {
     "end_time": "2020-11-01T19:52:54.013816Z",
     "start_time": "2020-11-01T19:52:53.824670Z"
    }
   },
   "outputs": [
    {
     "data": {
      "text/plain": [
       "[<matplotlib.lines.Line2D at 0x7f8a694c0210>]"
      ]
     },
     "execution_count": 25,
     "metadata": {},
     "output_type": "execute_result"
    },
    {
     "data": {
      "image/png": "[encoded data removed]",
      "text/plain": [
       "<Figure size 720x576 with 1 Axes>"
      ]
     },
     "metadata": {
      "needs_background": "light"
     },
     "output_type": "display_data"
    }
   ],
   "source": [
    "plt.figure(figsize=(10,8))\n",
    "ax = plt.gca()\n",
    "plt.plot(fpr,tpr)"
   ]
  },
  {
   "cell_type": "code",
   "execution_count": null,
   "metadata": {},
   "outputs": [],
   "source": []
  }
 ],
 "metadata": {
  "kernelspec": {
   "display_name": "Python 3",
   "language": "python",
   "name": "python3"
  },
  "language_info": {
   "codemirror_mode": {
    "name": "ipython",
    "version": 3
   },
   "file_extension": ".py",
   "mimetype": "text/x-python",
   "name": "python",
   "nbconvert_exporter": "python",
   "pygments_lexer": "ipython3",
   "version": "3.7.4"
  },
  "toc": {
   "base_numbering": 1,
   "nav_menu": {},
   "number_sections": true,
   "sideBar": true,
   "skip_h1_title": false,
   "title_cell": "Table of Contents",
   "title_sidebar": "Contents",
   "toc_cell": false,
   "toc_position": {},
   "toc_section_display": true,
   "toc_window_display": true
  }
 },
 "nbformat": 4,
 "nbformat_minor": 2
}
