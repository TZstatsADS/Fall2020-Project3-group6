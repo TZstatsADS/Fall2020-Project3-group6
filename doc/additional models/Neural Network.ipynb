{
 "cells": [
  {
   "cell_type": "code",
   "execution_count": 1,
   "metadata": {
    "ExecuteTime": {
     "end_time": "2020-11-03T02:41:29.365529Z",
     "start_time": "2020-11-03T02:41:21.674653Z"
    }
   },
   "outputs": [],
   "source": [
    "import numpy as np\n",
    "import pandas as pd\n",
    "import tensorflow as tf\n",
    "import tensorflow.keras as keras\n",
    "import matplotlib.pyplot as plt\n",
    "import random\n",
    "from sklearn import metrics\n",
    "%matplotlib inline\n",
    "\n",
    "import sys"
   ]
  },
  {
   "cell_type": "code",
   "execution_count": 2,
   "metadata": {
    "ExecuteTime": {
     "end_time": "2020-11-03T02:41:34.219073Z",
     "start_time": "2020-11-03T02:41:29.369381Z"
    }
   },
   "outputs": [
    {
     "name": "stdout",
     "output_type": "stream",
     "text": [
      "Requirement already satisfied: imblearn in /Users/mengyao/opt/anaconda3/lib/python3.7/site-packages (0.0)\n",
      "Requirement already satisfied: imbalanced-learn in /Users/mengyao/opt/anaconda3/lib/python3.7/site-packages (from imblearn) (0.7.0)\n",
      "Requirement already satisfied: scikit-learn>=0.23 in /Users/mengyao/opt/anaconda3/lib/python3.7/site-packages (from imbalanced-learn->imblearn) (0.23.2)\n",
      "Requirement already satisfied: scipy>=0.19.1 in /Users/mengyao/opt/anaconda3/lib/python3.7/site-packages (from imbalanced-learn->imblearn) (1.4.1)\n",
      "Requirement already satisfied: numpy>=1.13.3 in /Users/mengyao/opt/anaconda3/lib/python3.7/site-packages (from imbalanced-learn->imblearn) (1.17.2)\n",
      "Requirement already satisfied: joblib>=0.11 in /Users/mengyao/opt/anaconda3/lib/python3.7/site-packages (from imbalanced-learn->imblearn) (0.13.2)\n",
      "Requirement already satisfied: threadpoolctl>=2.0.0 in /Users/mengyao/opt/anaconda3/lib/python3.7/site-packages (from scikit-learn>=0.23->imbalanced-learn->imblearn) (2.1.0)\n"
     ]
    }
   ],
   "source": [
    "!pip install imblearn\n",
    "from imblearn.over_sampling import SMOTE"
   ]
  },
  {
   "cell_type": "code",
   "execution_count": 5,
   "metadata": {
    "ExecuteTime": {
     "end_time": "2020-11-03T02:43:46.528414Z",
     "start_time": "2020-11-03T02:43:45.601832Z"
    }
   },
   "outputs": [],
   "source": [
    "dat_train = pd.read_feather(\"../output/dat_train.feather\")\n",
    "dat_test = pd.read_feather(\"../output/dat_test.feather\")\n"
   ]
  },
  {
   "cell_type": "code",
   "execution_count": 6,
   "metadata": {
    "ExecuteTime": {
     "end_time": "2020-11-03T02:43:47.407478Z",
     "start_time": "2020-11-03T02:43:47.264751Z"
    }
   },
   "outputs": [],
   "source": [
    "images_train = dat_train.loc[:,dat_train.columns != 'label']\n",
    "labels_train = dat_train.loc[:,'label'].astype(int)\n",
    "images_val = dat_test.loc[:,dat_test.columns != 'label']\n",
    "labels_val = dat_test.loc[:,'label'].astype(int)"
   ]
  },
  {
   "cell_type": "code",
   "execution_count": 7,
   "metadata": {
    "ExecuteTime": {
     "end_time": "2020-11-03T02:43:48.151143Z",
     "start_time": "2020-11-03T02:43:47.999081Z"
    }
   },
   "outputs": [],
   "source": [
    "images_train = np.array(images_train)\n",
    "labels_train = np.array(labels_train)\n",
    "images_val = np.array(images_val)\n",
    "labels_val = np.array(labels_val)\n",
    "\n",
    "nepochs = 100\n",
    "batch_size = 128"
   ]
  },
  {
   "cell_type": "code",
   "execution_count": 8,
   "metadata": {
    "ExecuteTime": {
     "end_time": "2020-11-03T02:43:52.094421Z",
     "start_time": "2020-11-03T02:43:49.013000Z"
    }
   },
   "outputs": [],
   "source": [
    "sm = SMOTE()\n",
    "x_res_train, y_res_train = sm.fit_resample(images_train, labels_train)\n",
    "x_res_val, y_res_val = sm.fit_resample(images_val, labels_val)"
   ]
  },
  {
   "cell_type": "code",
   "execution_count": 9,
   "metadata": {
    "ExecuteTime": {
     "end_time": "2020-11-03T02:43:54.352718Z",
     "start_time": "2020-11-03T02:43:54.315196Z"
    }
   },
   "outputs": [],
   "source": [
    "def build_model(n_layers,hidden):\n",
    "    model=keras.Sequential()\n",
    "    model.add(keras.layers.Flatten())\n",
    "    for i1 in range(n_layers):\n",
    "        model.add(keras.layers.Dense(hidden,activation=\"relu\"))\n",
    "    model.add(keras.layers.Dense(10,activation=\"softmax\"))\n",
    "    return model\n"
   ]
  },
  {
   "cell_type": "code",
   "execution_count": 13,
   "metadata": {
    "ExecuteTime": {
     "end_time": "2020-11-03T02:54:52.752229Z",
     "start_time": "2020-11-03T02:44:38.848312Z"
    }
   },
   "outputs": [
    {
     "name": "stdout",
     "output_type": "stream",
     "text": [
      ">>>> 1,16: 0.5\n",
      ">>>> 1,32: 0.5501022494887525\n",
      ">>>> 1,64: 0.754601226993865\n",
      ">>>> 1,128: 0.754601226993865\n",
      ">>>> 2,16: 0.5\n",
      ">>>> 2,32: 0.5\n",
      ">>>> 2,64: 0.6901840490797546\n",
      ">>>> 2,128: 0.5\n",
      ">>>> 3,16: 0.5\n",
      ">>>> 3,32: 0.5\n",
      ">>>> 3,64: 0.5\n",
      ">>>> 3,128: 0.6871165644171779\n",
      ">>>> 4,16: 0.7065439672801636\n",
      ">>>> 4,32: 0.7443762781186094\n",
      ">>>> 4,64: 0.591002044989775\n",
      ">>>> 4,128: 0.6186094069529653\n",
      ">>>> 5,16: 0.7433537832310838\n",
      ">>>> 5,32: 0.7433537832310838\n",
      ">>>> 5,64: 0.6922290388548057\n",
      ">>>> 5,128: 0.5\n"
     ]
    }
   ],
   "source": [
    "results=[]\n",
    "layers_array = [1,2,3,4,5]\n",
    "nodes_array = [16,32,64,128]\n",
    "for n_layers  in layers_array:\n",
    "    for hidden in nodes_array:\n",
    "        model=build_model(n_layers,hidden)\n",
    "        model.compile(optimizer=\"adam\",loss=\"sparse_categorical_crossentropy\",metrics=[\"accuracy\"])\n",
    "        model.fit(x = x_res_train, y = y_res_train, batch_size=128, epochs =100, verbose=0, validation_data=(x_res_val,y_res_val))\n",
    "        Y_pred=np.argmax(model.predict(x_res_val),axis=1)\n",
    "        acc=np.mean(Y_pred==y_res_val)\n",
    "        results.append((n_layers,hidden,acc))\n",
    "        print(f\">>>> {n_layers},{hidden}: {acc}\")"
   ]
  },
  {
   "cell_type": "code",
   "execution_count": 14,
   "metadata": {
    "ExecuteTime": {
     "end_time": "2020-11-03T02:54:52.860605Z",
     "start_time": "2020-11-03T02:54:52.771745Z"
    }
   },
   "outputs": [
    {
     "data": {
      "text/html": [
       "<div>\n",
       "<style scoped>\n",
       "    .dataframe tbody tr th:only-of-type {\n",
       "        vertical-align: middle;\n",
       "    }\n",
       "\n",
       "    .dataframe tbody tr th {\n",
       "        vertical-align: top;\n",
       "    }\n",
       "\n",
       "    .dataframe thead th {\n",
       "        text-align: right;\n",
       "    }\n",
       "</style>\n",
       "<table border=\"1\" class=\"dataframe\">\n",
       "  <thead>\n",
       "    <tr style=\"text-align: right;\">\n",
       "      <th></th>\n",
       "      <th>n_layers</th>\n",
       "      <th>hidden</th>\n",
       "      <th>accuracy</th>\n",
       "    </tr>\n",
       "  </thead>\n",
       "  <tbody>\n",
       "    <tr>\n",
       "      <td>0</td>\n",
       "      <td>1</td>\n",
       "      <td>16</td>\n",
       "      <td>0.500000</td>\n",
       "    </tr>\n",
       "    <tr>\n",
       "      <td>1</td>\n",
       "      <td>1</td>\n",
       "      <td>32</td>\n",
       "      <td>0.550102</td>\n",
       "    </tr>\n",
       "    <tr>\n",
       "      <td>2</td>\n",
       "      <td>1</td>\n",
       "      <td>64</td>\n",
       "      <td>0.754601</td>\n",
       "    </tr>\n",
       "    <tr>\n",
       "      <td>3</td>\n",
       "      <td>1</td>\n",
       "      <td>128</td>\n",
       "      <td>0.754601</td>\n",
       "    </tr>\n",
       "    <tr>\n",
       "      <td>4</td>\n",
       "      <td>2</td>\n",
       "      <td>16</td>\n",
       "      <td>0.500000</td>\n",
       "    </tr>\n",
       "    <tr>\n",
       "      <td>5</td>\n",
       "      <td>2</td>\n",
       "      <td>32</td>\n",
       "      <td>0.500000</td>\n",
       "    </tr>\n",
       "    <tr>\n",
       "      <td>6</td>\n",
       "      <td>2</td>\n",
       "      <td>64</td>\n",
       "      <td>0.690184</td>\n",
       "    </tr>\n",
       "    <tr>\n",
       "      <td>7</td>\n",
       "      <td>2</td>\n",
       "      <td>128</td>\n",
       "      <td>0.500000</td>\n",
       "    </tr>\n",
       "    <tr>\n",
       "      <td>8</td>\n",
       "      <td>3</td>\n",
       "      <td>16</td>\n",
       "      <td>0.500000</td>\n",
       "    </tr>\n",
       "    <tr>\n",
       "      <td>9</td>\n",
       "      <td>3</td>\n",
       "      <td>32</td>\n",
       "      <td>0.500000</td>\n",
       "    </tr>\n",
       "    <tr>\n",
       "      <td>10</td>\n",
       "      <td>3</td>\n",
       "      <td>64</td>\n",
       "      <td>0.500000</td>\n",
       "    </tr>\n",
       "    <tr>\n",
       "      <td>11</td>\n",
       "      <td>3</td>\n",
       "      <td>128</td>\n",
       "      <td>0.687117</td>\n",
       "    </tr>\n",
       "    <tr>\n",
       "      <td>12</td>\n",
       "      <td>4</td>\n",
       "      <td>16</td>\n",
       "      <td>0.706544</td>\n",
       "    </tr>\n",
       "    <tr>\n",
       "      <td>13</td>\n",
       "      <td>4</td>\n",
       "      <td>32</td>\n",
       "      <td>0.744376</td>\n",
       "    </tr>\n",
       "    <tr>\n",
       "      <td>14</td>\n",
       "      <td>4</td>\n",
       "      <td>64</td>\n",
       "      <td>0.591002</td>\n",
       "    </tr>\n",
       "    <tr>\n",
       "      <td>15</td>\n",
       "      <td>4</td>\n",
       "      <td>128</td>\n",
       "      <td>0.618609</td>\n",
       "    </tr>\n",
       "    <tr>\n",
       "      <td>16</td>\n",
       "      <td>5</td>\n",
       "      <td>16</td>\n",
       "      <td>0.743354</td>\n",
       "    </tr>\n",
       "    <tr>\n",
       "      <td>17</td>\n",
       "      <td>5</td>\n",
       "      <td>32</td>\n",
       "      <td>0.743354</td>\n",
       "    </tr>\n",
       "    <tr>\n",
       "      <td>18</td>\n",
       "      <td>5</td>\n",
       "      <td>64</td>\n",
       "      <td>0.692229</td>\n",
       "    </tr>\n",
       "    <tr>\n",
       "      <td>19</td>\n",
       "      <td>5</td>\n",
       "      <td>128</td>\n",
       "      <td>0.500000</td>\n",
       "    </tr>\n",
       "  </tbody>\n",
       "</table>\n",
       "</div>"
      ],
      "text/plain": [
       "    n_layers  hidden  accuracy\n",
       "0          1      16  0.500000\n",
       "1          1      32  0.550102\n",
       "2          1      64  0.754601\n",
       "3          1     128  0.754601\n",
       "4          2      16  0.500000\n",
       "5          2      32  0.500000\n",
       "6          2      64  0.690184\n",
       "7          2     128  0.500000\n",
       "8          3      16  0.500000\n",
       "9          3      32  0.500000\n",
       "10         3      64  0.500000\n",
       "11         3     128  0.687117\n",
       "12         4      16  0.706544\n",
       "13         4      32  0.744376\n",
       "14         4      64  0.591002\n",
       "15         4     128  0.618609\n",
       "16         5      16  0.743354\n",
       "17         5      32  0.743354\n",
       "18         5      64  0.692229\n",
       "19         5     128  0.500000"
      ]
     },
     "execution_count": 14,
     "metadata": {},
     "output_type": "execute_result"
    }
   ],
   "source": [
    "data=pd.DataFrame(results,columns=[\"n_layers\",\"hidden\",\"accuracy\"])\n",
    "data"
   ]
  },
  {
   "cell_type": "code",
   "execution_count": 15,
   "metadata": {
    "ExecuteTime": {
     "end_time": "2020-11-03T02:54:52.876529Z",
     "start_time": "2020-11-03T02:54:52.865704Z"
    }
   },
   "outputs": [
    {
     "data": {
      "text/plain": [
       "n_layers     1.000000\n",
       "hidden      64.000000\n",
       "accuracy     0.754601\n",
       "Name: 2, dtype: float64"
      ]
     },
     "execution_count": 15,
     "metadata": {},
     "output_type": "execute_result"
    }
   ],
   "source": [
    "best=data.iloc[data[\"accuracy\"].idxmax()]\n",
    "best_n_layers=int(best[\"n_layers\"])\n",
    "best_hidden=int(best[\"hidden\"])\n",
    "best"
   ]
  },
  {
   "cell_type": "code",
   "execution_count": 55,
   "metadata": {
    "ExecuteTime": {
     "end_time": "2020-11-03T03:07:15.092184Z",
     "start_time": "2020-11-03T03:06:40.964229Z"
    }
   },
   "outputs": [
    {
     "data": {
      "text/plain": [
       "<tensorflow.python.keras.callbacks.History at 0x7fcc2d899d50>"
      ]
     },
     "execution_count": 55,
     "metadata": {},
     "output_type": "execute_result"
    }
   ],
   "source": [
    "tf.random.set_seed(2020)\n",
    "model = build_model(1,64)\n",
    "model.compile(loss='sparse_categorical_crossentropy',optimizer='adam',metrics=['accuracy']) \n",
    "model.fit(x_res_train,y_res_train,\n",
    "          verbose=0,batch_size=128, epochs =100,\n",
    "         validation_data=(x_res_val,y_res_val))"
   ]
  },
  {
   "cell_type": "code",
   "execution_count": 56,
   "metadata": {
    "ExecuteTime": {
     "end_time": "2020-11-03T03:07:15.426354Z",
     "start_time": "2020-11-03T03:07:15.095987Z"
    }
   },
   "outputs": [
    {
     "data": {
      "text/plain": [
       "0.6666666666666666"
      ]
     },
     "execution_count": 56,
     "metadata": {},
     "output_type": "execute_result"
    }
   ],
   "source": [
    "Y_pred=np.argmax(model.predict(x_res_val),axis=1)\n",
    "np.mean(Y_pred==y_res_val)"
   ]
  },
  {
   "cell_type": "code",
   "execution_count": 57,
   "metadata": {
    "ExecuteTime": {
     "end_time": "2020-11-03T03:07:15.639259Z",
     "start_time": "2020-11-03T03:07:15.437085Z"
    }
   },
   "outputs": [
    {
     "name": "stdout",
     "output_type": "stream",
     "text": [
      "0.8436858326955808\n"
     ]
    }
   ],
   "source": [
    "prob=model.predict_proba(x_res_val)\n",
    "fpr,tpr,threshold=metrics.roc_curve(y_res_val,prob[:,1])\n",
    "roc=np.c_[fpr,tpr,threshold]\n",
    "data=pd.DataFrame(roc,columns=[\"fpr\",\"tpr\",\"threshold\"])\n",
    "\n",
    "auc=metrics.roc_auc_score(y_res_val,prob[:,1])\n",
    "print(auc)"
   ]
  },
  {
   "cell_type": "code",
   "execution_count": 58,
   "metadata": {
    "ExecuteTime": {
     "end_time": "2020-11-03T03:07:16.025153Z",
     "start_time": "2020-11-03T03:07:15.650764Z"
    }
   },
   "outputs": [
    {
     "data": {
      "text/plain": [
       "[<matplotlib.lines.Line2D at 0x7fcc26ec4dd0>]"
      ]
     },
     "execution_count": 58,
     "metadata": {},
     "output_type": "execute_result"
    },
    {
     "data": {
      "image/png": "[encoded data removed]",
      "text/plain": [
       "<Figure size 720x576 with 1 Axes>"
      ]
     },
     "metadata": {
      "needs_background": "light"
     },
     "output_type": "display_data"
    }
   ],
   "source": [
    "plt.figure(figsize=(10,8))\n",
    "ax = plt.gca()\n",
    "plt.plot(fpr,tpr)"
   ]
  },
  {
   "cell_type": "code",
   "execution_count": null,
   "metadata": {},
   "outputs": [],
   "source": []
  }
 ],
 "metadata": {
  "kernelspec": {
   "display_name": "Python 3",
   "language": "python",
   "name": "python3"
  },
  "language_info": {
   "codemirror_mode": {
    "name": "ipython",
    "version": 3
   },
   "file_extension": ".py",
   "mimetype": "text/x-python",
   "name": "python",
   "nbconvert_exporter": "python",
   "pygments_lexer": "ipython3",
   "version": "3.7.4"
  },
  "toc": {
   "base_numbering": 1,
   "nav_menu": {},
   "number_sections": true,
   "sideBar": true,
   "skip_h1_title": false,
   "title_cell": "Table of Contents",
   "title_sidebar": "Contents",
   "toc_cell": false,
   "toc_position": {
    "height": "calc(100% - 180px)",
    "left": "10px",
    "top": "150px",
    "width": "243px"
   },
   "toc_section_display": true,
   "toc_window_display": true
  }
 },
 "nbformat": 4,
 "nbformat_minor": 2
}
